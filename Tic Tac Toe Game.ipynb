{
 "cells": [
  {
   "cell_type": "markdown",
   "id": "828f5e55",
   "metadata": {},
   "source": [
    "# TIC TAC TOE GAME"
   ]
  },
  {
   "cell_type": "markdown",
   "id": "784ba701",
   "metadata": {},
   "source": [
    "Create a Tic Tac Toe game. \n",
    "\n",
    "Requirements:\n",
    "\n",
    "1) 2 players should be able to play the game (both sitting at the same computer)\n",
    "\n",
    "2) The board should be printed out every time a player makes a move\n",
    "\n",
    "3) You should be able to accept input of the player position and then place a symbol on the board"
   ]
  },
  {
   "cell_type": "code",
   "execution_count": 1,
   "id": "335db3b4",
   "metadata": {},
   "outputs": [],
   "source": [
    "from IPython.display import clear_output\n",
    "\n",
    "#display board\n",
    "def display_board(board):\n",
    "    \n",
    "    clear_output() #clear screen. only works in jupyter\n",
    "    \n",
    "    #print board\n",
    "    \n",
    "    horizontal_line = '------'\n",
    "    print (board[1] + '|' + board[2] + '|' + board[3])\n",
    "    print(horizontal_line)\n",
    "    print (board[4] + '|' + board[5] + '|' + board[6])\n",
    "    print(horizontal_line)\n",
    "    print (board[7] + '|' + board[8] + '|' + board[9])\n",
    "    \n",
    "board = [' ',' ',' ',' ',' ',' ',' ',' ',' ',' ']"
   ]
  },
  {
   "cell_type": "code",
   "execution_count": 2,
   "id": "40b3c7af",
   "metadata": {},
   "outputs": [
    {
     "name": "stdout",
     "output_type": "stream",
     "text": [
      " | | \n",
      "------\n",
      " | | \n",
      "------\n",
      " | | \n"
     ]
    }
   ],
   "source": [
    "display_board(board)"
   ]
  },
  {
   "cell_type": "code",
   "execution_count": 3,
   "id": "3f65fec3",
   "metadata": {},
   "outputs": [],
   "source": [
    "#Board Position\n",
    "def board_position():\n",
    "    \n",
    "    #Show both players the board first so they know where to place their markers\n",
    "    horizontal_line = '------'\n",
    "    print('Please select your position to place your marker:\\n')\n",
    "    print(f'{1}|{2}|{3}')\n",
    "    print(horizontal_line)\n",
    "    print(f'{4}|{5}|{6}')\n",
    "    print(horizontal_line)\n",
    "    print(f'{7}|{8}|{9}')"
   ]
  },
  {
   "cell_type": "code",
   "execution_count": 4,
   "id": "95d74c8c",
   "metadata": {},
   "outputs": [
    {
     "name": "stdout",
     "output_type": "stream",
     "text": [
      "Please select your position to place your marker:\n",
      "\n",
      "1|2|3\n",
      "------\n",
      "4|5|6\n",
      "------\n",
      "7|8|9\n"
     ]
    }
   ],
   "source": [
    "board_position()"
   ]
  },
  {
   "cell_type": "code",
   "execution_count": 5,
   "id": "549448fd",
   "metadata": {},
   "outputs": [],
   "source": [
    "#Accept the player input\n",
    "def player_input():\n",
    "    \n",
    "    marker = ''\n",
    "    \n",
    "    while not(marker == 'X' or marker == 'O'):\n",
    "        marker = input('Player 1, please choose X or O: ')\n",
    "        \n",
    "    if marker == 'X':\n",
    "        return ('X','O')\n",
    "    else:\n",
    "        return('O','X')"
   ]
  },
  {
   "cell_type": "code",
   "execution_count": 6,
   "id": "ad2737d4",
   "metadata": {},
   "outputs": [
    {
     "name": "stdout",
     "output_type": "stream",
     "text": [
      "Player 1, please choose X or O: \n",
      "Player 1, please choose X or O: O\n"
     ]
    }
   ],
   "source": [
    "player1_marker, player2_marker = player_input()"
   ]
  },
  {
   "cell_type": "code",
   "execution_count": 7,
   "id": "881c22fb",
   "metadata": {},
   "outputs": [],
   "source": [
    "#Players are able to assign their choice to the board\n",
    "def place_marker(board, marker, position):\n",
    "    board[position] = marker"
   ]
  },
  {
   "cell_type": "code",
   "execution_count": 8,
   "id": "e0f2b595",
   "metadata": {},
   "outputs": [],
   "source": [
    "#check for wins\n",
    "def win_check(board,mark): \n",
    "    return ((board[1] == mark and board[2] == mark and board[3] == mark) or #across horizontally 1st row\n",
    "    (board[4] == mark and board[5] == mark and board[6] == mark) or #across horizontally 2nd row\n",
    "    (board[7] == mark and board[8] == mark and board[9] == mark) or #across horizontally 3rd row\n",
    "    (board[1] == mark and board[4] == mark and board[7] == mark) or #across vertical 1st column\n",
    "    (board[2] == mark and board[5] == mark and board[8] == mark) or #across vertical 2nd column\n",
    "    (board[3] == mark and board[6] == mark and board[9] == mark) or #across vertical 3rd column\n",
    "    (board[1] == mark and board[5] == mark and board[9] == mark) or #across diagonal left to right\n",
    "    (board[3] == mark and board[5] == mark and board[7] == mark)) #across diagonal right to left"
   ]
  },
  {
   "cell_type": "code",
   "execution_count": 9,
   "id": "583579db",
   "metadata": {},
   "outputs": [],
   "source": [
    "#Randomly decide which player goes first\n",
    "import random\n",
    "\n",
    "def choose_first():\n",
    "    \n",
    "    if random.randint(0,1) == 0:\n",
    "        return 'Player 2'\n",
    "    else:\n",
    "        return 'Player 1'"
   ]
  },
  {
   "cell_type": "code",
   "execution_count": 10,
   "id": "19a0cf37",
   "metadata": {},
   "outputs": [],
   "source": [
    "#Check if the board is freely available\n",
    "def space_check(board,position):\n",
    "    return board[position] == ' '"
   ]
  },
  {
   "cell_type": "code",
   "execution_count": 11,
   "id": "86d44fca",
   "metadata": {},
   "outputs": [],
   "source": [
    "#Check if the board is full\n",
    "#if the board is full and no one has won yet, the match is a tie\n",
    "\n",
    "def full_board_check(board):\n",
    "    for i in range(1,10): #for position 1 to 9\n",
    "        if board[i] == ' ': #returns false if board is not full\n",
    "            return False\n",
    "    return True"
   ]
  },
  {
   "cell_type": "code",
   "execution_count": 12,
   "id": "e3bf0fda",
   "metadata": {},
   "outputs": [],
   "source": [
    "#Check if there is a available space on the board \n",
    "\n",
    "def player_choice(board):\n",
    "    position = 0 \n",
    "    while position not in [1,2,3,4,5,6,7,8,9] or not space_check(board,position):\n",
    "        position = int(input('Choose your next position (1-9): '))\n",
    "    return position"
   ]
  },
  {
   "cell_type": "code",
   "execution_count": 13,
   "id": "54d44ac2",
   "metadata": {},
   "outputs": [],
   "source": [
    "#Ask if the player wants to play again \n",
    "def replay():\n",
    "    return(input('Do you want to play again? Enter Y or N: ')).lower().startswith('y')"
   ]
  },
  {
   "cell_type": "code",
   "execution_count": null,
   "id": "9ebd89bb",
   "metadata": {},
   "outputs": [
    {
     "name": "stdout",
     "output_type": "stream",
     "text": [
      "O|X|O\n",
      "------\n",
      "X|X|O\n",
      "------\n",
      "O|O|X\n",
      "The game is a draw!\n"
     ]
    }
   ],
   "source": [
    "print('Welcome to Tic Tac Toe')\n",
    "\n",
    "while True:\n",
    "    board_game = ['#',' ',' ',' ',' ',' ',' ',' ',' ',' ']\n",
    "    player1_marker, player2_marker = player_input()\n",
    "    turn = choose_first()\n",
    "    print(turn + 'will go first!\\n')\n",
    "    board_position()\n",
    "    game_on = input('Are you ready to play? Enter Y or N')\n",
    "    \n",
    "    if game_on.lower()[0] == 'y':\n",
    "        game_on = True\n",
    "    else:\n",
    "        game_on = False\n",
    "        \n",
    "    while game_on:\n",
    "        if turn == 'Player 1':\n",
    "        \n",
    "            display_board(board_game)\n",
    "            position = player_choice(board_game)\n",
    "            place_marker(board_game, player1_marker, position)\n",
    "        \n",
    "            if win_check(board_game,player1_marker):\n",
    "                display_board(board_game)\n",
    "                print('Congratulations! You won!')\n",
    "                game_on = False\n",
    "            else:\n",
    "                if full_board_check(board_game):\n",
    "                    display_board(board_game)\n",
    "                    print('The game is a draw!')\n",
    "                    break\n",
    "                else:\n",
    "                    turn = 'Player 2'\n",
    "          \n",
    "        else:\n",
    "            display_board(board_game)\n",
    "            position = player_choice(board_game)\n",
    "            place_marker(board_game, player2_marker, position)\n",
    "            \n",
    "            if win_check(board_game,player2_marker):\n",
    "                display_board(board_game)\n",
    "                print('Congratulations! You won!')\n",
    "                game_on = False\n",
    "            else:\n",
    "                if full_board_check(board_game):\n",
    "                    display_board(board_game)\n",
    "                    print('The game is a draw!')\n",
    "                    break\n",
    "                else:\n",
    "                    turn = 'Player 1'\n",
    "                    \n",
    "    if not replay():\n",
    "        break"
   ]
  },
  {
   "cell_type": "code",
   "execution_count": null,
   "id": "6d956fde",
   "metadata": {},
   "outputs": [],
   "source": []
  }
 ],
 "metadata": {
  "kernelspec": {
   "display_name": "Python 3 (ipykernel)",
   "language": "python",
   "name": "python3"
  },
  "language_info": {
   "codemirror_mode": {
    "name": "ipython",
    "version": 3
   },
   "file_extension": ".py",
   "mimetype": "text/x-python",
   "name": "python",
   "nbconvert_exporter": "python",
   "pygments_lexer": "ipython3",
   "version": "3.9.13"
  }
 },
 "nbformat": 4,
 "nbformat_minor": 5
}
